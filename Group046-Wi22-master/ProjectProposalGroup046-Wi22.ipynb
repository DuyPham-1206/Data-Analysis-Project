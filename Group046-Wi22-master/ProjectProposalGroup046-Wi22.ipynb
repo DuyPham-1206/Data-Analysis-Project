{
 "cells": [
  {
   "cell_type": "markdown",
   "metadata": {},
   "source": [
    "# COGS 108 - Final Project Proposal"
   ]
  },
  {
   "cell_type": "markdown",
   "metadata": {},
   "source": [
    "# Names\n",
    "\n",
    "- Claire Wu\n",
    "- Felicity Villagomez\n",
    "- Duy Pham\n",
    "- Hy Huynh\n",
    "- Andrew Vo"
   ]
  },
  {
   "cell_type": "markdown",
   "metadata": {},
   "source": [
    "# Research Question"
   ]
  },
  {
   "cell_type": "markdown",
   "metadata": {},
   "source": [
    "#### To what extent does a certain anime genre make it more popular to millennials compared to Gen Z? "
   ]
  },
  {
   "cell_type": "markdown",
   "metadata": {},
   "source": [
    "## Background and Prior Work"
   ]
  },
  {
   "cell_type": "markdown",
   "metadata": {},
   "source": [
    "When it comes to shows throughout the past years, the popularity of anime (Japanese animated cartoons) cannot be forgotten.",
    "Combining not only art, but also cinematography and characterization, and other techniques, has led to anime’s increasing popularity,", 
    "not just in the domestic market. It has been getting popular internationally, especially in Western audiences. In our study, we are seeing",
    "if age groups prefer a certain genre of anime. \n",
    "\n",
    "Similar studies have been done before, as seen with these two links below. The first link includes data that a Japanese streaming site collected.", 
    "Out of over fifty thousand votes, it listed the popular shows within the specific age groups as well as the number of votes it got. The votes are also collected with", 
    "no age group filter. The second link shows more age groups and each one’s top five anime taken from the entertainment website anitrendz.net. The second one’s age groups,", 
    "are more tight than the first link’s age groups (3-4 years versus 10). While these two provided a lot of helpful information, their age group varied too much: we only", 
    "wanted to look at two bigger age groups namely Millennials vs Gen Z, so they did not directly answer our research question.",
    "\n",
    "\n",
    "References (include links):\n",
    "- 1) https://www.reddit.com/r/anime/comments/7vwlus/the_most_popular_anime_among_different_age_group/ \n",
    "- 2) https://www.facebook.com/Anitrendz/posts/3023104781260355 "
   ]
  },
  {
   "cell_type": "markdown",
   "metadata": {},
   "source": [
    "# Hypothesis\n"
   ]
  },
  {
   "cell_type": "markdown",
   "metadata": {},
   "source": [
    "In our study, we hypothesize that there is a relationship between the genre of anime and whether or not it is more favored by millennials or Gen Z.", 
    "The genres we are looking at are action and adventure, romance, and comedy. We predict that millennials prefer the romance and comedy genres, while Gen Z will", 
    "prefer action and adventure. We believe this is the case because data shows that older age groups prefer tamer and more realistic shows while younger age groups",
    "prefer dynamic and action-packed shows."
   ]
  },
  {
   "cell_type": "markdown",
   "metadata": {},
   "source": [
    "# Data"
   ]
  },
  {
   "cell_type": "markdown",
   "metadata": {},
   "source": [
    "What the ideal dataset you would want to answer in this question \n",
    "      An ideal dataset to answer this question would be one where we’re able to extract relevant information about different animes such as its specific", 
    "genres along with various user ratings about said anime along with their personal information like age/gender.",
    "What variables \n",
    "      We would look at different variables such as user ages, anime genre, anime names, and user ratings",
    "How many observations",
    "      We want our data observation to be more than 5000 and preferably more than near 10,000",
    "Who/what/how would the data be collected?",
    "The data would be collected from myanimelist.net and from data websites such as kaggle. The data would be stored by its unique ID given by myanimelist(MAL) ",
    "and each entry would then have its corresponding ratings from different users followed by their age."

   ]
  },
  {
   "cell_type": "markdown",
   "metadata": {},
   "source": [
    "# Ethics & Privacy"
   ]
  },
  {
   "cell_type": "markdown",
   "metadata": {},
   "source": [
    "*All of our data will come from public datasets. These datasets are listed on public websites anyone can access,",
    "such as Kaggle. The research is also pulled directly off MyAnimeList, which gathers reported information about reviews and ratings.",
    "Although there will be some data that uses personal bias, such as a user’s personal rating for a show, the reviews are averaged out.",
    "In addition, we do not include personal information (not even the MyAnimeList username), to help not violate anyone’s privacy.",
    "Data that we collect from a public data set will include personal information such as gender and profile names, however, we don’t intend to use that information",
    "to avoid possible data breach or privacy exposure.*"
   ]
  },
  {
   "cell_type": "markdown",
   "metadata": {},
   "source": [
    "# Team Expectations "
   ]
  },
  {
   "cell_type": "markdown",
   "metadata": {},
   "source": [
    "* *Team Members: Claire Wu, Felicity Villagomez, Duy Pham, Andrew Vo, Hy Huynh*\n",
    "* *Everyone will contribute to the project either by coding, gathering and analyzing data, or working on typing up relevant information in order to meet deadlines.*\n",
    "* *Showing up on time to group meetings*\n",
    "* *Be accountable for your work and be sure to ask for help if needed.*\n",
    "* *Should conflicts arise, discuss and resolve them together as a group.*\n",
    "* *Showing respect to everyone on the team and their work, regardless of their roles.*"
   ]
  },
  {
   "cell_type": "markdown",
   "metadata": {},
   "source": [
    "# Project Timeline Proposal"
   ]
  },
  {
   "cell_type": "markdown",
   "metadata": {},
   "source": [
    "| Meeting Date  | Meeting Time| Completed Before Meeting  | Discuss at Meeting |\n",
    "|---|---|---|---|\n",
    "| 1/27  |  7 PM | Ideas about what to do for project  | Project proposal and setting future meeting times; search for datasets | \n",
    "| 2/1  |  6 PM | Finished project proposal | Discuss wrangling and how we can use data | \n",
    "| 2/3  | 8 PM  | Import wrangle data into project; have ideas about analysis  | Start analysis and edit project more; gather more data if needed   |\n",
    "| 2/15  | 7 PM  | Analysis mostly done | Finish up analysis   |\n",
    "| 3/11  | 6 PM  | Complete analysis; discussion and conclusion | Final touches |\n",
    "| 3/14  | 12 PM  | NA | Submit final project |\n"
   ]
  }
 ],
 "metadata": {
  "kernelspec": {
   "display_name": "Python 3",
   "language": "python",
   "name": "python3"
  },
  "language_info": {
   "codemirror_mode": {
    "name": "ipython",
    "version": 3
   },
   "file_extension": ".py",
   "mimetype": "text/x-python",
   "name": "python",
   "nbconvert_exporter": "python",
   "pygments_lexer": "ipython3",
   "version": "3.7.9"
  }
 },
 "nbformat": 4,
 "nbformat_minor": 2
}
